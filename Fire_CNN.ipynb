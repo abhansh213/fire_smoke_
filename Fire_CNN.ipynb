{
  "cells": [
    {
      "cell_type": "code",
      "execution_count": null,
      "metadata": {
        "id": "HExmVM2HfvA_"
      },
      "outputs": [],
      "source": [
        "zip_file_path = '/content/drive/MyDrive/FOREST_FIRE_SMOKE_AND_NON_FIRE_DATASET.zip'\n",
        "\n",
        "data = '/content/extracted_data'\n"
      ]
    },
    {
      "cell_type": "code",
      "execution_count": null,
      "metadata": {
        "colab": {
          "base_uri": "https://localhost:8080/"
        },
        "id": "0bqs7Di-jJpv",
        "outputId": "34f682f6-9ec5-4b0c-9a7f-c3f37e2021b1"
      },
      "outputs": [
        {
          "name": "stdout",
          "output_type": "stream",
          "text": [
            "['test', 'train']\n"
          ]
        }
      ],
      "source": [
        "from google.colab import drive\n",
        "import zipfile\n",
        "import os\n",
        "\n",
        "os.makedirs(data, exist_ok=True)\n",
        "\n",
        "with zipfile.ZipFile(zip_file_path, 'r') as zip_ref:\n",
        "    zip_ref.extractall(data)\n",
        "\n",
        "extracted_files = os.listdir(data)\n",
        "print(extracted_files)"
      ]
    },
    {
      "cell_type": "code",
      "execution_count": null,
      "metadata": {
        "id": "uU08d1KIgJta"
      },
      "outputs": [],
      "source": [
        "train = '/content/extracted_data/train'\n",
        "test = '/content/extracted_data/test'"
      ]
    },
    {
      "cell_type": "code",
      "execution_count": null,
      "metadata": {
        "id": "Aoz_Qceyr5Ab"
      },
      "outputs": [],
      "source": [
        "import tensorflow as tf\n",
        "from tensorflow.keras.preprocessing.image import ImageDataGenerator\n",
        "from tensorflow.keras import layers, models\n",
        "from tensorflow.keras.callbacks import LearningRateScheduler\n",
        "import matplotlib.pyplot as plt\n",
        "import numpy as np"
      ]
    },
    {
      "cell_type": "code",
      "execution_count": null,
      "metadata": {
        "colab": {
          "base_uri": "https://localhost:8080/"
        },
        "id": "QyfjoWqOroyF",
        "outputId": "7d0d53c8-bacc-4403-ad4d-395a91a0c6c2"
      },
      "outputs": [
        {
          "name": "stdout",
          "output_type": "stream",
          "text": [
            "Found 32398 images belonging to 3 classes.\n",
            "Found 10500 images belonging to 3 classes.\n"
          ]
        }
      ],
      "source": [
        "train_datagen = ImageDataGenerator(\n",
        "    rescale=1./255,\n",
        "    rotation_range=20,\n",
        "    width_shift_range=0.2,\n",
        "    height_shift_range=0.2,\n",
        "    shear_range=0.2,\n",
        "    zoom_range=0.2,\n",
        "    horizontal_flip=True,\n",
        "    fill_mode='nearest'\n",
        ")\n",
        "\n",
        "test_datagen = ImageDataGenerator(rescale=1./255)\n",
        "\n",
        "batch_size = 32\n",
        "\n",
        "train_generator = train_datagen.flow_from_directory(\n",
        "    train,\n",
        "    target_size=(224, 224),\n",
        "    batch_size=batch_size,\n",
        "    class_mode='categorical'\n",
        ")\n",
        "\n",
        "test_generator = test_datagen.flow_from_directory(\n",
        "    test,\n",
        "    target_size=(224, 224),\n",
        "    batch_size=batch_size,\n",
        "    class_mode='categorical'\n",
        ")"
      ]
    },
    {
      "cell_type": "code",
      "execution_count": null,
      "metadata": {
        "colab": {
          "base_uri": "https://localhost:8080/"
        },
        "id": "EBVSijEYj35J",
        "outputId": "dcd28342-82e0-4069-9b93-4b013c18383e"
      },
      "outputs": [
        {
          "name": "stdout",
          "output_type": "stream",
          "text": [
            "Downloading data from https://storage.googleapis.com/tensorflow/keras-applications/mobilenet_v2/mobilenet_v2_weights_tf_dim_ordering_tf_kernels_1.0_224_no_top.h5\n",
            "9406464/9406464 [==============================] - 0s 0us/step\n"
          ]
        }
      ],
      "source": [
        "base_model = tf.keras.applications.MobileNetV2(input_shape=(224, 224, 3),\n",
        "                                               include_top=False,\n",
        "                                               weights='imagenet')\n",
        "base_model.trainable = False\n",
        "\n",
        "model = models.Sequential([\n",
        "    base_model,\n",
        "    layers.GlobalAveragePooling2D(),\n",
        "    layers.Dense(128, activation='relu'),\n",
        "    layers.Dense(3, activation='softmax')\n",
        "])"
      ]
    },
    {
      "cell_type": "code",
      "execution_count": null,
      "metadata": {
        "id": "hWV9TR-ysU_I"
      },
      "outputs": [],
      "source": [
        "initial_learning_rate = 0.001\n",
        "\n",
        "def scheduler(epoch, lr):\n",
        "    if epoch < 5:\n",
        "        return lr\n",
        "    else:\n",
        "        return lr * tf.math.exp(-0.1)\n",
        "\n",
        "lr_scheduler = LearningRateScheduler(scheduler)\n",
        "\n",
        "model.compile(optimizer=tf.keras.optimizers.Adam(learning_rate=initial_learning_rate),\n",
        "              loss='categorical_crossentropy',\n",
        "              metrics=['accuracy'])"
      ]
    },
    {
      "cell_type": "code",
      "execution_count": null,
      "metadata": {
        "colab": {
          "base_uri": "https://localhost:8080/"
        },
        "id": "rgYNCSwOsZ5A",
        "outputId": "220128ec-c12c-4d85-d59f-87cb7332c0a5"
      },
      "outputs": [
        {
          "name": "stdout",
          "output_type": "stream",
          "text": [
            "1013/1013 [==============================] - 2433s 2s/step - loss: 0.1077 - accuracy: 0.9628 - val_loss: 0.0978 - val_accuracy: 0.9646 - lr: 0.0010\n",
            "329/329 [==============================] - 498s 2s/step - loss: 0.0978 - accuracy: 0.9646\n",
            "Test Loss: 0.09781418740749359, Test Accuracy: 0.9645714163780212\n"
          ]
        }
      ],
      "source": [
        "\n",
        "epochs = 1\n",
        "history = model.fit(train_generator,\n",
        "                    epochs=epochs,\n",
        "                    validation_data=test_generator,\n",
        "                    callbacks=[lr_scheduler])\n",
        "\n",
        "# Evaluate the model on the test set\n",
        "evaluation_result = model.evaluate(test_generator)\n",
        "print(f'Test Loss: {evaluation_result[0]}, Test Accuracy: {evaluation_result[1]}')"
      ]
    },
    {
      "cell_type": "code",
      "execution_count": null,
      "metadata": {
        "colab": {
          "background_save": true
        },
        "id": "VzVyR7Ynq5UR"
      },
      "outputs": [],
      "source": [
        "save_dir = 'content'\n",
        "os.makedirs(save_dir, exist_ok=True)\n",
        "model.save(os.path.join(save_dir, 'fire_cnn.h5'))"
      ]
    },
    {
      "cell_type": "code",
      "execution_count": null,
      "metadata": {
        "id": "5KCesaitatsb"
      },
      "outputs": [],
      "source": [
        "pip install tensorflow"
      ]
    },
    {
      "cell_type": "code",
      "execution_count": null,
      "metadata": {
        "id": "fwutCDKBZqrm"
      },
      "outputs": [],
      "source": [
        "from tensorflow.keras.preprocessing import image\n",
        "from tensorflow.keras.applications.mobilenet_v2 import preprocess_input\n",
        "import numpy as np\n",
        "\n",
        "# Load and preprocess the user-provided image\n",
        "user_image_path1 = '/Fire (36).jpg'  # Replace with the path to the user's image\n",
        "user_image1 = image.load_img(user_image_path1, target_size=(224, 224))\n",
        "user_image_array1 = image.img_to_array(user_image1)\n",
        "user_image_array1 = np.expand_dims(user_image_array1, axis=0)\n",
        "user_image_array1 = preprocess_input(user_image_array1)\n",
        "# Make predictions\n",
        "predictions1 = model.predict(user_image_array1)\n",
        "# Get the predicted class label\n",
        "predicted_class1 = np.argmax(predictions1)\n",
        "predicted_label1 = list(train_generator.class_indices.keys())[predicted_class1]\n",
        "# Display the results\n",
        "plt.imshow(user_image1)\n",
        "plt.title(f'Predicted Class: {predicted_label1}')\n",
        "plt.show()\n",
        "\n",
        "\n",
        "# Load and preprocess the user-provided image\n",
        "user_image_path2 = '/smoke1.jpeg'  # Replace with the path to the user's image\n",
        "user_image2 = image.load_img(user_image_path2, target_size=(224, 224))\n",
        "user_image_array2 = image.img_to_array(user_image2)\n",
        "user_image_array2 = np.expand_dims(user_image_array2, axis=0)\n",
        "user_image_array2 = preprocess_input(user_image_array2)\n",
        "\n",
        "# Make predictions\n",
        "predictions2 = model.predict(user_image_array2)\n",
        "\n",
        "# Get the predicted class label\n",
        "predicted_class2 = np.argmax(predictions2)\n",
        "predicted_label2 = list(train_generator.class_indices.keys())[predicted_class2]\n",
        "\n",
        "# Display the results\n",
        "plt.imshow(user_image2)\n",
        "plt.title(f'Predicted Class: {predicted_label2}')\n",
        "plt.show()\n",
        "\n",
        "# Load and preprocess the user-provided image\n",
        "user_image_path3 = '/images.jpg'  # Replace with the path to the user's image\n",
        "user_image3 = image.load_img(user_image_path3, target_size=(224, 224))\n",
        "user_image_array3 = image.img_to_array(user_image3)\n",
        "user_image_array3 = np.expand_dims(user_image_array3, axis=0)\n",
        "user_image_array3 = preprocess_input(user_image_array3)\n",
        "\n",
        "# Make predictions\n",
        "predictions3 = model.predict(user_image_array3)\n",
        "\n",
        "# Get the predicted class label\n",
        "predicted_class3 = np.argmax(predictions3)\n",
        "predicted_label3 = list(train_generator.class_indices.keys())[predicted_class3]\n",
        "plt.imshow(user_image3)\n",
        "plt.title(f'Predicted Class: {predicted_label3}')\n",
        "plt.show()"
      ]
    },
    {
      "cell_type": "code",
      "source": [
        "from sklearn.metrics import confusion_matrix, classification_report, accuracy_score\n",
        "import seaborn as sns\n",
        "\n",
        "def load_images_from_folder(folder):\n",
        "    images = []\n",
        "    labels = []\n",
        "    label_map = {'smoke': 0, 'fire': 1, 'non_fire': 2}\n",
        "    for label, label_idx in label_map.items():\n",
        "        label_folder = os.path.join(folder, label)\n",
        "        for filename in os.listdir(label_folder):\n",
        "            img_path = os.path.join(label_folder, filename)\n",
        "            images.append(img_path)\n",
        "            labels.append(label_idx)\n",
        "    return images, labels\n",
        "\n",
        "\n",
        "train_images, train_labels = load_images_from_folder(train)\n",
        "test_images, test_labels = load_images_from_folder(test)\n",
        "\n",
        "pred_labels = np.argmax(model.predict(test_images), axis=1)\n",
        "\n",
        "conf_matrix = confusion_matrix(test_labels, pred_labels)\n",
        "\n",
        "plt.figure(figsize=(10, 8))\n",
        "sns.heatmap(conf_matrix, annot=True, fmt='d', cmap='Blues', xticklabels=['smoke', 'fire', 'non_fire'], yticklabels=['smoke', 'fire', 'non_fire'])\n",
        "plt.xlabel('Predicted')\n",
        "plt.ylabel('True')\n",
        "plt.title('Confusion Matrix')\n",
        "plt.show()\n",
        "\n",
        "accuracy = accuracy_score(test_labels, pred_labels)\n",
        "print(f'Accuracy Score: {accuracy:.4f}')\n"
      ],
      "metadata": {
        "id": "9IlOC7zbsHct"
      },
      "execution_count": null,
      "outputs": []
    }
  ],
  "metadata": {
    "colab": {
      "provenance": []
    },
    "kernelspec": {
      "display_name": "Python 3",
      "name": "python3"
    },
    "language_info": {
      "name": "python"
    }
  },
  "nbformat": 4,
  "nbformat_minor": 0
}